{
 "cells": [
  {
   "cell_type": "code",
   "execution_count": 10,
   "id": "ee514f91",
   "metadata": {},
   "outputs": [],
   "source": [
    "import numpy as np\n",
    "import pandas as pd\n",
    "import json"
   ]
  },
  {
   "cell_type": "code",
   "execution_count": 11,
   "id": "0907f838",
   "metadata": {},
   "outputs": [
    {
     "name": "stdout",
     "output_type": "stream",
     "text": [
      "### Gradient Descent on Multi-Dimensional Models\n",
      "The function we worked with above was one-dimensional – we were only minimizing the function with respect to a single parameter, $\\theta$. However, models usually have a cost function with multiple parameters that need to be optimized. For example, simple linear regression has 2 parameters: \n",
      "$$\\hat{y} + \\theta_0 + \\theta_1x$$ \n",
      "and multiple linear regression has $p+1$ parameters: \n",
      "$$\\mathbb{Y} = \\theta_0 + \\theta_1 \\Bbb{X}_{:,1} + \\theta_2 \\Bbb{X}_{:,2} + \\cdots + \\theta_p \\Bbb{X}_{:,p}$$\n",
      "\n",
      "We'll need to expand gradient descent so we can update our guesses for all model parameters all in one go.\n",
      "\n",
      "With multiple parameters to optimize, we consider a **loss surface**, or the model's loss for a particular *combination* of possible parameter values.\n",
      "\n",
      "\n",
      "\n",
      "\n",
      "\n",
      "We can also visualize a bird's-eye view of the loss surface from above using a contour plot:\n"
     ]
    }
   ],
   "source": [
    "with open(\"/Users/andrewchoy/Desktop/CS Projects/Visard/data/data100/chunked_feature_engineering.json\", 'r', encoding='utf-8') as f:\n",
    "    content = json.load(f)\n",
    "\n",
    "print(content[\"2\"])  "
   ]
  },
  {
   "cell_type": "code",
   "execution_count": null,
   "id": "1a2b0b3c",
   "metadata": {},
   "outputs": [],
   "source": []
  }
 ],
 "metadata": {
  "kernelspec": {
   "display_name": "visard",
   "language": "python",
   "name": "python3"
  },
  "language_info": {
   "codemirror_mode": {
    "name": "ipython",
    "version": 3
   },
   "file_extension": ".py",
   "mimetype": "text/x-python",
   "name": "python",
   "nbconvert_exporter": "python",
   "pygments_lexer": "ipython3",
   "version": "3.9.21"
  }
 },
 "nbformat": 4,
 "nbformat_minor": 5
}
